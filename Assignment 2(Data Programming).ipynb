{
 "cells": [
  {
   "cell_type": "code",
   "execution_count": 6,
   "metadata": {},
   "outputs": [
    {
     "name": "stdout",
     "output_type": "stream",
     "text": [
      "Enter Your Name Please:Mayank\n",
      "Welcome Mayank\n"
     ]
    }
   ],
   "source": [
    "name=input(\"Enter Your Name Please:\")\n",
    "print(\"Welcome\",name)\n"
   ]
  },
  {
   "cell_type": "code",
   "execution_count": 11,
   "metadata": {},
   "outputs": [
    {
     "name": "stdout",
     "output_type": "stream",
     "text": [
      "Enter the number of Hours Please:20\n",
      "Enter the Rate Please:14.30\n",
      "Total Pay 286.0\n"
     ]
    }
   ],
   "source": [
    "hours=float(input(\"Enter the number of Hours Please:\"))\n",
    "rate=float(input(\"Enter the Rate Please:\"))\n",
    "pay=hours*rate\n",
    "print(\"Total Pay\",pay)"
   ]
  },
  {
   "cell_type": "code",
   "execution_count": 12,
   "metadata": {},
   "outputs": [
    {
     "name": "stdout",
     "output_type": "stream",
     "text": [
      "8\n",
      "8.5\n",
      "4.0\n",
      "11\n"
     ]
    }
   ],
   "source": [
    "width=17\n",
    "height=12.0\n",
    "print(width//2)\n",
    "print(width/2.0)\n",
    "print(height/3)\n",
    "print(1+2*5)"
   ]
  },
  {
   "cell_type": "code",
   "execution_count": 17,
   "metadata": {},
   "outputs": [
    {
     "name": "stdout",
     "output_type": "stream",
     "text": [
      "Input the current temperature in Celsius:17\n",
      "The temperature is  62.6  Farenheit\n"
     ]
    }
   ],
   "source": [
    "temp=int(input(\"Input the current temperature in Celsius:\"))\n",
    "temp=temp*9/5+32\n",
    "print(\"The temperature is \",temp,\" Farenheit\")"
   ]
  },
  {
   "cell_type": "code",
   "execution_count": 21,
   "metadata": {},
   "outputs": [
    {
     "name": "stdout",
     "output_type": "stream",
     "text": [
      "Enter the number of Hours Please 42\n",
      "Enter the Rate Please 10\n",
      "The Pay is  430.0\n"
     ]
    }
   ],
   "source": [
    "hours=float(input(\"Enter the number of Hours Please \"))\n",
    "rate=float(input(\"Enter the Rate Please \"))\n",
    "if(hours>40):\n",
    "  pay=hours*rate+(hours-40)*rate*0.5\n",
    "else:\n",
    "  pay=hours*rate\n",
    "print(\"The Pay is \",pay)\n"
   ]
  },
  {
   "cell_type": "code",
   "execution_count": 30,
   "metadata": {},
   "outputs": [
    {
     "name": "stdout",
     "output_type": "stream",
     "text": [
      "Enter the number of Hours Please:nien\n",
      "Error,Error,Error,Terminate\n"
     ]
    }
   ],
   "source": [
    "try:\n",
    "  hours=float(input(\"Enter the number of Hours Please:\"))\n",
    "  rate=float(input(\"Enter the Rate Please:\"))\n",
    "  pay=hours*rate\n",
    "  print(\"Total Pay\",pay) \n",
    "except:\n",
    "    print(\"Error,Error,Error,Terminate\")\n",
    "    exit\n",
    "\n"
   ]
  },
  {
   "cell_type": "code",
   "execution_count": 31,
   "metadata": {},
   "outputs": [
    {
     "name": "stdout",
     "output_type": "stream",
     "text": [
      "Enter the number of Hours Please:9\n",
      "Enter the Rate Please:nein\n",
      "Error,Error,Error,Terminate\n"
     ]
    }
   ],
   "source": [
    "try:\n",
    "  hours=float(input(\"Enter the number of Hours Please:\"))\n",
    "  rate=float(input(\"Enter the Rate Please:\"))\n",
    "  pay=hours*rate\n",
    "  print(\"Total Pay\",pay) \n",
    "except:\n",
    "    print(\"Error,Error,Error,Terminate\")\n",
    "    exit\n"
   ]
  },
  {
   "cell_type": "code",
   "execution_count": 43,
   "metadata": {},
   "outputs": [
    {
     "name": "stdout",
     "output_type": "stream",
     "text": [
      "Enter the Score Please(Range is 0.0 to 1.0 ):.92\n",
      "Grade A\n"
     ]
    }
   ],
   "source": [
    "try:\n",
    "  score=float(input(\"Enter the Score Please(Range is 0.0 to 1.0 ):\"))\n",
    "  if(score>=0.9 and score<=1.0):\n",
    "    print(\"Grade A\")\n",
    "  else:   \n",
    "    if(score>=0.8 and score<=1.0):\n",
    "      print(\"Grade B\")\n",
    "    else:  \n",
    "        if(score>=0.7 and score<=1.0):\n",
    "          print(\"Grade C\")\n",
    "        else: \n",
    "            if(score>=0.6 and score<=1.0):\n",
    "               print(\"Grade D\")\n",
    "            else:  \n",
    "                if(score<0.6 and score>=0.0):\n",
    "                    print(\"Grade F\")  \n",
    "                else:\n",
    "                    print(\"Error, Subject out of Range\")\n",
    "except:\n",
    "   print(\"Error,Error,Error,Terminate\") "
   ]
  },
  {
   "cell_type": "code",
   "execution_count": 44,
   "metadata": {},
   "outputs": [
    {
     "name": "stdout",
     "output_type": "stream",
     "text": [
      "Enter the Score Please(Range is 0.0 to 1.0 ):0.82\n",
      "Grade B\n"
     ]
    }
   ],
   "source": [
    "try:\n",
    "  score=float(input(\"Enter the Score Please(Range is 0.0 to 1.0 ):\"))\n",
    "  if(score>=0.9 and score<=1.0):\n",
    "    print(\"Grade A\")\n",
    "  else:   \n",
    "    if(score>=0.8 and score<=1.0):\n",
    "      print(\"Grade B\")\n",
    "    else:  \n",
    "        if(score>=0.7 and score<=1.0):\n",
    "          print(\"Grade C\")\n",
    "        else: \n",
    "            if(score>=0.6 and score<=1.0):\n",
    "               print(\"Grade D\")\n",
    "            else:  \n",
    "                if(score<0.6 and score>=0.0):\n",
    "                    print(\"Grade F\")  \n",
    "                else:\n",
    "                    print(\"Error, Subject out of Range\")\n",
    "except:\n",
    "   print(\"Error,Error,Error,Terminate\") "
   ]
  },
  {
   "cell_type": "code",
   "execution_count": 45,
   "metadata": {},
   "outputs": [
    {
     "name": "stdout",
     "output_type": "stream",
     "text": [
      "Enter the Score Please(Range is 0.0 to 1.0 ):0.72\n",
      "Grade C\n"
     ]
    }
   ],
   "source": [
    "try:\n",
    "  score=float(input(\"Enter the Score Please(Range is 0.0 to 1.0 ):\"))\n",
    "  if(score>=0.9 and score<=1.0):\n",
    "    print(\"Grade A\")\n",
    "  else:   \n",
    "    if(score>=0.8 and score<=1.0):\n",
    "      print(\"Grade B\")\n",
    "    else:  \n",
    "        if(score>=0.7 and score<=1.0):\n",
    "          print(\"Grade C\")\n",
    "        else: \n",
    "            if(score>=0.6 and score<=1.0):\n",
    "               print(\"Grade D\")\n",
    "            else:  \n",
    "                if(score<0.6 and score>=0.0):\n",
    "                    print(\"Grade F\")  \n",
    "                else:\n",
    "                    print(\"Error, Subject out of Range\")\n",
    "except:\n",
    "   print(\"Error,Error,Error,Terminate\") "
   ]
  },
  {
   "cell_type": "code",
   "execution_count": 46,
   "metadata": {},
   "outputs": [
    {
     "name": "stdout",
     "output_type": "stream",
     "text": [
      "Enter the Score Please(Range is 0.0 to 1.0 ):0.62\n",
      "Grade D\n"
     ]
    }
   ],
   "source": [
    "try:\n",
    "  score=float(input(\"Enter the Score Please(Range is 0.0 to 1.0 ):\"))\n",
    "  if(score>=0.9 and score<=1.0):\n",
    "    print(\"Grade A\")\n",
    "  else:   \n",
    "    if(score>=0.8 and score<=1.0):\n",
    "      print(\"Grade B\")\n",
    "    else:  \n",
    "        if(score>=0.7 and score<=1.0):\n",
    "          print(\"Grade C\")\n",
    "        else: \n",
    "            if(score>=0.6 and score<=1.0):\n",
    "               print(\"Grade D\")\n",
    "            else:  \n",
    "                if(score<0.6 and score>=0.0):\n",
    "                    print(\"Grade F\")  \n",
    "                else:\n",
    "                    print(\"Error, Subject out of Range\")\n",
    "except:\n",
    "   print(\"Error,Error,Error,Terminate\") "
   ]
  },
  {
   "cell_type": "code",
   "execution_count": 47,
   "metadata": {},
   "outputs": [
    {
     "name": "stdout",
     "output_type": "stream",
     "text": [
      "Enter the Score Please(Range is 0.0 to 1.0 ):1.2\n",
      "Error, Subject out of Range\n"
     ]
    }
   ],
   "source": [
    "try:\n",
    "  score=float(input(\"Enter the Score Please(Range is 0.0 to 1.0 ):\"))\n",
    "  if(score>=0.9 and score<=1.0):\n",
    "    print(\"Grade A\")\n",
    "  else:   \n",
    "    if(score>=0.8 and score<=1.0):\n",
    "      print(\"Grade B\")\n",
    "    else:  \n",
    "        if(score>=0.7 and score<=1.0):\n",
    "          print(\"Grade C\")\n",
    "        else: \n",
    "            if(score>=0.6 and score<=1.0):\n",
    "               print(\"Grade D\")\n",
    "            else:  \n",
    "                if(score<0.6 and score>=0.0):\n",
    "                    print(\"Grade F\")  \n",
    "                else:\n",
    "                    print(\"Error, Subject out of Range\")\n",
    "except:\n",
    "   print(\"Error,Error,Error,Terminate\") "
   ]
  },
  {
   "cell_type": "code",
   "execution_count": 49,
   "metadata": {},
   "outputs": [
    {
     "name": "stdout",
     "output_type": "stream",
     "text": [
      "ABC\n",
      "Zap\n",
      "ABC\n"
     ]
    }
   ],
   "source": [
    "def fred():\n",
    "  print(\"Zap\")\n",
    "def jane():\n",
    "  print(\"ABC\")\n",
    "jane()\n",
    "fred()\n",
    "jane()\n"
   ]
  },
  {
   "cell_type": "code",
   "execution_count": 53,
   "metadata": {},
   "outputs": [
    {
     "name": "stdout",
     "output_type": "stream",
     "text": [
      "Enter the number of Hours Please 45\n",
      "Enter the Rate Please 12.5\n",
      "The Pay is  593.75\n"
     ]
    }
   ],
   "source": [
    "def computepay(hours,rate):\n",
    "    if(hours>40):\n",
    "      pay=hours*rate+(hours-40)*rate*0.5\n",
    "    else:\n",
    "      pay=hours*rate\n",
    "    print(\"The Pay is \",pay)\n",
    "        \n",
    "hours=float(input(\"Enter the number of Hours Please \"))\n",
    "rate=float(input(\"Enter the Rate Please \"))\n",
    "computepay(hours,rate)\n"
   ]
  },
  {
   "cell_type": "code",
   "execution_count": 63,
   "metadata": {},
   "outputs": [
    {
     "name": "stdout",
     "output_type": "stream",
     "text": [
      "Enter the Score Please(Range is 0.0 to 1.0 ):.92\n",
      "Grade A\n"
     ]
    }
   ],
   "source": [
    "def computegrade(score):\n",
    "  if(score>=0.9 and score<=1.0):\n",
    "    return(\"Grade A\")\n",
    "  else:   \n",
    "         if(score>=0.8 and score<=1.0):\n",
    "            return(\"Grade B\")\n",
    "         else:  \n",
    "           if(score>=0.7 and score<=1.0):\n",
    "            return(\"Grade C\")\n",
    "           else: \n",
    "            if(score>=0.6 and score<=1.0):\n",
    "               return(\"Grade D\")\n",
    "            else:  \n",
    "                if(score<0.6 and score>=0.0):\n",
    "                    return(\"Grade F\")  \n",
    "                else:\n",
    "                    print(\"Error, Subject out of Range\")\n",
    "\n",
    "\n",
    "try:\n",
    "  score=float(input(\"Enter the Score Please(Range is 0.0 to 1.0 ):\"))\n",
    "  var=computegrade(score)\n",
    "  print(var)\n",
    "except:\n",
    "   print(\"Error,Error,Error,Terminate\") "
   ]
  },
  {
   "cell_type": "code",
   "execution_count": 66,
   "metadata": {},
   "outputs": [
    {
     "name": "stdout",
     "output_type": "stream",
     "text": [
      "Enter the Score Please(Range is 0.0 to 1.0 ):0.82\n",
      "Grade B\n"
     ]
    }
   ],
   "source": [
    "def computegrade(score):\n",
    "       if(score>=0.9 and score<=1.0):\n",
    "        return(\"Grade A\")\n",
    "       else:   \n",
    "        if(score>=0.8 and score<=1.0):\n",
    "          return(\"Grade B\")\n",
    "        else:  \n",
    "          if(score>=0.7 and score<=1.0):\n",
    "            return(\"Grade C\")\n",
    "          else: \n",
    "            if(score>=0.6 and score<=1.0):\n",
    "               return(\"Grade D\")\n",
    "            else:  \n",
    "                if(score<0.6 and score>=0.0):\n",
    "                    return(\"Grade F\")  \n",
    "                else:\n",
    "                    return(\"Error, Subject out of Range\")\n",
    "\n",
    "\n",
    "try:\n",
    "  score=float(input(\"Enter the Score Please(Range is 0.0 to 1.0 ):\"))\n",
    "  print(computegrade(score))\n",
    "except:\n",
    "   print(\"Error,Error,Error,Terminate\") "
   ]
  },
  {
   "cell_type": "code",
   "execution_count": 67,
   "metadata": {},
   "outputs": [
    {
     "name": "stdout",
     "output_type": "stream",
     "text": [
      "Enter the Score Please(Range is 0.0 to 1.0 ):0.72\n",
      "Grade C\n"
     ]
    }
   ],
   "source": [
    "def computegrade(score):\n",
    "       if(score>=0.9 and score<=1.0):\n",
    "        return(\"Grade A\")\n",
    "       else:   \n",
    "        if(score>=0.8 and score<=1.0):\n",
    "          return(\"Grade B\")\n",
    "        else:  \n",
    "          if(score>=0.7 and score<=1.0):\n",
    "            return(\"Grade C\")\n",
    "          else: \n",
    "            if(score>=0.6 and score<=1.0):\n",
    "               return(\"Grade D\")\n",
    "            else:  \n",
    "                if(score<0.6 and score>=0.0):\n",
    "                    return(\"Grade F\")  \n",
    "                else:\n",
    "                    return(\"Error, Subject out of Range\")\n",
    "\n",
    "\n",
    "try:\n",
    "  score=float(input(\"Enter the Score Please(Range is 0.0 to 1.0 ):\"))\n",
    "  print(computegrade(score))\n",
    "except:\n",
    "   print(\"Error,Error,Error,Terminate\") "
   ]
  },
  {
   "cell_type": "code",
   "execution_count": 68,
   "metadata": {},
   "outputs": [
    {
     "name": "stdout",
     "output_type": "stream",
     "text": [
      "Enter the Score Please(Range is 0.0 to 1.0 ):0.62\n",
      "Grade D\n"
     ]
    }
   ],
   "source": [
    "def computegrade(score):\n",
    "       if(score>=0.9 and score<=1.0):\n",
    "        return(\"Grade A\")\n",
    "       else:   \n",
    "        if(score>=0.8 and score<=1.0):\n",
    "          return(\"Grade B\")\n",
    "        else:  \n",
    "          if(score>=0.7 and score<=1.0):\n",
    "            return(\"Grade C\")\n",
    "          else: \n",
    "            if(score>=0.6 and score<=1.0):\n",
    "               return(\"Grade D\")\n",
    "            else:  \n",
    "                if(score<0.6 and score>=0.0):\n",
    "                    return(\"Grade F\")  \n",
    "                else:\n",
    "                    return(\"Error, Subject out of Range\")\n",
    "\n",
    "\n",
    "try:\n",
    "  score=float(input(\"Enter the Score Please(Range is 0.0 to 1.0 ):\"))\n",
    "  print(computegrade(score))\n",
    "except:\n",
    "   print(\"Error,Error,Error,Terminate\") "
   ]
  },
  {
   "cell_type": "code",
   "execution_count": 69,
   "metadata": {},
   "outputs": [
    {
     "name": "stdout",
     "output_type": "stream",
     "text": [
      "Enter the Score Please(Range is 0.0 to 1.0 ):0.5\n",
      "Grade F\n"
     ]
    }
   ],
   "source": [
    "def computegrade(score):\n",
    "       if(score>=0.9 and score<=1.0):\n",
    "        return(\"Grade A\")\n",
    "       else:   \n",
    "        if(score>=0.8 and score<=1.0):\n",
    "          return(\"Grade B\")\n",
    "        else:  \n",
    "          if(score>=0.7 and score<=1.0):\n",
    "            return(\"Grade C\")\n",
    "          else: \n",
    "            if(score>=0.6 and score<=1.0):\n",
    "               return(\"Grade D\")\n",
    "            else:  \n",
    "                if(score<0.6 and score>=0.0):\n",
    "                    return(\"Grade F\")  \n",
    "                else:\n",
    "                    return(\"Error, Subject out of Range\")\n",
    "\n",
    "\n",
    "try:\n",
    "  score=float(input(\"Enter the Score Please(Range is 0.0 to 1.0 ):\"))\n",
    "  print(computegrade(score))\n",
    "except:\n",
    "   print(\"Error,Error,Error,Terminate\") "
   ]
  },
  {
   "cell_type": "code",
   "execution_count": 70,
   "metadata": {},
   "outputs": [
    {
     "name": "stdout",
     "output_type": "stream",
     "text": [
      "Enter the Score Please(Range is 0.0 to 1.0 ):1.3\n",
      "Error, Subject out of Range\n"
     ]
    }
   ],
   "source": [
    "def computegrade(score):\n",
    "       if(score>=0.9 and score<=1.0):\n",
    "        return(\"Grade A\")\n",
    "       else:   \n",
    "        if(score>=0.8 and score<=1.0):\n",
    "          return(\"Grade B\")\n",
    "        else:  \n",
    "          if(score>=0.7 and score<=1.0):\n",
    "            return(\"Grade C\")\n",
    "          else: \n",
    "            if(score>=0.6 and score<=1.0):\n",
    "               return(\"Grade D\")\n",
    "            else:  \n",
    "                if(score<0.6 and score>=0.0):\n",
    "                    return(\"Grade F\")  \n",
    "                else:\n",
    "                    return(\"Error, Subject out of Range\")\n",
    "\n",
    "\n",
    "try:\n",
    "  score=float(input(\"Enter the Score Please(Range is 0.0 to 1.0 ):\"))\n",
    "  print(computegrade(score))\n",
    "except:\n",
    "   print(\"Error,Error,Error,Terminate\") "
   ]
  },
  {
   "cell_type": "code",
   "execution_count": 71,
   "metadata": {},
   "outputs": [
    {
     "name": "stdout",
     "output_type": "stream",
     "text": [
      "Enter the Score Please(Range is 0.0 to 1.0 ):nine\n",
      "Error,Error,Error,Terminate\n"
     ]
    }
   ],
   "source": [
    "def computegrade(score):\n",
    "       if(score>=0.9 and score<=1.0):\n",
    "        return(\"Grade A\")\n",
    "       else:   \n",
    "        if(score>=0.8 and score<=1.0):\n",
    "          return(\"Grade B\")\n",
    "        else:  \n",
    "          if(score>=0.7 and score<=1.0):\n",
    "            return(\"Grade C\")\n",
    "          else: \n",
    "            if(score>=0.6 and score<=1.0):\n",
    "               return(\"Grade D\")\n",
    "            else:  \n",
    "                if(score<0.6 and score>=0.0):\n",
    "                    return(\"Grade F\")  \n",
    "                else:\n",
    "                    return(\"Error, Subject out of Range\")\n",
    "\n",
    "\n",
    "try:\n",
    "  score=float(input(\"Enter the Score Please(Range is 0.0 to 1.0 ):\"))\n",
    "  print(computegrade(score))\n",
    "except:\n",
    "   print(\"Error,Error,Error,Terminate\") "
   ]
  },
  {
   "cell_type": "code",
   "execution_count": null,
   "metadata": {},
   "outputs": [],
   "source": []
  }
 ],
 "metadata": {
  "kernelspec": {
   "display_name": "Python 3",
   "language": "python",
   "name": "python3"
  },
  "language_info": {
   "codemirror_mode": {
    "name": "ipython",
    "version": 3
   },
   "file_extension": ".py",
   "mimetype": "text/x-python",
   "name": "python",
   "nbconvert_exporter": "python",
   "pygments_lexer": "ipython3",
   "version": "3.7.3"
  }
 },
 "nbformat": 4,
 "nbformat_minor": 2
}
